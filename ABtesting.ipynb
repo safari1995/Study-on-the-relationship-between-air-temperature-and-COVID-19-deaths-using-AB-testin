{
 "cells": [
  {
   "cell_type": "markdown",
   "id": "d37f5710",
   "metadata": {},
   "source": [
    "In this notebook we want to see that is there any relation between the deaths by COVID and tha tempreture."
   ]
  },
  {
   "cell_type": "code",
   "execution_count": 1,
   "id": "2b387318",
   "metadata": {},
   "outputs": [],
   "source": [
    "# loading Lybreries\n",
    "import pandas as pd\n",
    "import numpy as np\n",
    "import statsmodels.stats.weightstats"
   ]
  },
  {
   "cell_type": "code",
   "execution_count": 2,
   "id": "c2bb3244",
   "metadata": {},
   "outputs": [
    {
     "data": {
      "text/html": [
       "<div>\n",
       "<style scoped>\n",
       "    .dataframe tbody tr th:only-of-type {\n",
       "        vertical-align: middle;\n",
       "    }\n",
       "\n",
       "    .dataframe tbody tr th {\n",
       "        vertical-align: top;\n",
       "    }\n",
       "\n",
       "    .dataframe thead th {\n",
       "        text-align: right;\n",
       "    }\n",
       "</style>\n",
       "<table border=\"1\" class=\"dataframe\">\n",
       "  <thead>\n",
       "    <tr style=\"text-align: right;\">\n",
       "      <th></th>\n",
       "      <th>Country/Region</th>\n",
       "      <th>Last Update</th>\n",
       "      <th>Confirmed</th>\n",
       "      <th>Deaths</th>\n",
       "      <th>Recovered</th>\n",
       "      <th>Latitude</th>\n",
       "      <th>Longitude</th>\n",
       "      <th>Temprature</th>\n",
       "      <th>Humidity</th>\n",
       "    </tr>\n",
       "  </thead>\n",
       "  <tbody>\n",
       "    <tr>\n",
       "      <th>0</th>\n",
       "      <td>Mainland China</td>\n",
       "      <td>2020-03-10T15:13:05</td>\n",
       "      <td>67760</td>\n",
       "      <td>3024</td>\n",
       "      <td>47743</td>\n",
       "      <td>30.9756</td>\n",
       "      <td>112.2707</td>\n",
       "      <td>12.5</td>\n",
       "      <td>86</td>\n",
       "    </tr>\n",
       "    <tr>\n",
       "      <th>1</th>\n",
       "      <td>Italy</td>\n",
       "      <td>2020-03-10T17:53:02</td>\n",
       "      <td>10149</td>\n",
       "      <td>631</td>\n",
       "      <td>724</td>\n",
       "      <td>43.0000</td>\n",
       "      <td>12.0000</td>\n",
       "      <td>12.9</td>\n",
       "      <td>64</td>\n",
       "    </tr>\n",
       "    <tr>\n",
       "      <th>2</th>\n",
       "      <td>Iran (Islamic Republic of)</td>\n",
       "      <td>2020-03-10T19:13:20</td>\n",
       "      <td>8042</td>\n",
       "      <td>291</td>\n",
       "      <td>2731</td>\n",
       "      <td>32.0000</td>\n",
       "      <td>53.0000</td>\n",
       "      <td>11.9</td>\n",
       "      <td>9</td>\n",
       "    </tr>\n",
       "    <tr>\n",
       "      <th>3</th>\n",
       "      <td>Republic of Korea</td>\n",
       "      <td>2020-03-10T19:13:20</td>\n",
       "      <td>7513</td>\n",
       "      <td>54</td>\n",
       "      <td>247</td>\n",
       "      <td>36.0000</td>\n",
       "      <td>128.0000</td>\n",
       "      <td>4.9</td>\n",
       "      <td>41</td>\n",
       "    </tr>\n",
       "    <tr>\n",
       "      <th>4</th>\n",
       "      <td>France</td>\n",
       "      <td>2020-03-10T18:53:02</td>\n",
       "      <td>1784</td>\n",
       "      <td>33</td>\n",
       "      <td>12</td>\n",
       "      <td>47.0000</td>\n",
       "      <td>2.0000</td>\n",
       "      <td>11.9</td>\n",
       "      <td>93</td>\n",
       "    </tr>\n",
       "  </tbody>\n",
       "</table>\n",
       "</div>"
      ],
      "text/plain": [
       "               Country/Region          Last Update  Confirmed  Deaths  \\\n",
       "0              Mainland China  2020-03-10T15:13:05      67760    3024   \n",
       "1                       Italy  2020-03-10T17:53:02      10149     631   \n",
       "2  Iran (Islamic Republic of)  2020-03-10T19:13:20       8042     291   \n",
       "3           Republic of Korea  2020-03-10T19:13:20       7513      54   \n",
       "4                      France  2020-03-10T18:53:02       1784      33   \n",
       "\n",
       "   Recovered  Latitude  Longitude  Temprature  Humidity  \n",
       "0      47743   30.9756   112.2707        12.5        86  \n",
       "1        724   43.0000    12.0000        12.9        64  \n",
       "2       2731   32.0000    53.0000        11.9         9  \n",
       "3        247   36.0000   128.0000         4.9        41  \n",
       "4         12   47.0000     2.0000        11.9        93  "
      ]
     },
     "execution_count": 2,
     "metadata": {},
     "output_type": "execute_result"
    }
   ],
   "source": [
    "# laoding Data\n",
    "data = pd.read_csv('Corona_Updated.csv')\n",
    "data.head()"
   ]
  },
  {
   "cell_type": "code",
   "execution_count": 3,
   "id": "ff0e463f",
   "metadata": {
    "scrolled": true
   },
   "outputs": [
    {
     "data": {
      "text/plain": [
       "Country/Region    0\n",
       "Last Update       0\n",
       "Confirmed         0\n",
       "Deaths            0\n",
       "Recovered         0\n",
       "Latitude          0\n",
       "Longitude         0\n",
       "Temprature        0\n",
       "Humidity          0\n",
       "dtype: int64"
      ]
     },
     "execution_count": 3,
     "metadata": {},
     "output_type": "execute_result"
    }
   ],
   "source": [
    "# ckeck our data set for null cells\n",
    "data.isnull().sum()"
   ]
  },
  {
   "cell_type": "code",
   "execution_count": 4,
   "id": "a42305ca",
   "metadata": {},
   "outputs": [
    {
     "name": "stdout",
     "output_type": "stream",
     "text": [
      "<class 'pandas.core.frame.DataFrame'>\n",
      "RangeIndex: 206 entries, 0 to 205\n",
      "Data columns (total 9 columns):\n",
      " #   Column          Non-Null Count  Dtype  \n",
      "---  ------          --------------  -----  \n",
      " 0   Country/Region  206 non-null    object \n",
      " 1   Last Update     206 non-null    object \n",
      " 2   Confirmed       206 non-null    int64  \n",
      " 3   Deaths          206 non-null    int64  \n",
      " 4   Recovered       206 non-null    int64  \n",
      " 5   Latitude        206 non-null    float64\n",
      " 6   Longitude       206 non-null    float64\n",
      " 7   Temprature      206 non-null    float64\n",
      " 8   Humidity        206 non-null    int64  \n",
      "dtypes: float64(3), int64(4), object(2)\n",
      "memory usage: 14.6+ KB\n"
     ]
    }
   ],
   "source": [
    "data.info()"
   ]
  },
  {
   "cell_type": "code",
   "execution_count": 5,
   "id": "9affb0ce",
   "metadata": {},
   "outputs": [
    {
     "data": {
      "text/html": [
       "<div>\n",
       "<style scoped>\n",
       "    .dataframe tbody tr th:only-of-type {\n",
       "        vertical-align: middle;\n",
       "    }\n",
       "\n",
       "    .dataframe tbody tr th {\n",
       "        vertical-align: top;\n",
       "    }\n",
       "\n",
       "    .dataframe thead th {\n",
       "        text-align: right;\n",
       "    }\n",
       "</style>\n",
       "<table border=\"1\" class=\"dataframe\">\n",
       "  <thead>\n",
       "    <tr style=\"text-align: right;\">\n",
       "      <th></th>\n",
       "      <th>Confirmed</th>\n",
       "      <th>Deaths</th>\n",
       "      <th>Recovered</th>\n",
       "      <th>Latitude</th>\n",
       "      <th>Longitude</th>\n",
       "      <th>Temprature</th>\n",
       "      <th>Humidity</th>\n",
       "    </tr>\n",
       "  </thead>\n",
       "  <tbody>\n",
       "    <tr>\n",
       "      <th>count</th>\n",
       "      <td>206.000000</td>\n",
       "      <td>206.000000</td>\n",
       "      <td>206.000000</td>\n",
       "      <td>206.000000</td>\n",
       "      <td>206.000000</td>\n",
       "      <td>206.000000</td>\n",
       "      <td>206.000000</td>\n",
       "    </tr>\n",
       "    <tr>\n",
       "      <th>mean</th>\n",
       "      <td>575.640777</td>\n",
       "      <td>20.689320</td>\n",
       "      <td>312.640777</td>\n",
       "      <td>31.184989</td>\n",
       "      <td>11.752030</td>\n",
       "      <td>12.161165</td>\n",
       "      <td>67.728155</td>\n",
       "    </tr>\n",
       "    <tr>\n",
       "      <th>std</th>\n",
       "      <td>4822.697784</td>\n",
       "      <td>215.794845</td>\n",
       "      <td>3332.764713</td>\n",
       "      <td>21.305149</td>\n",
       "      <td>84.576291</td>\n",
       "      <td>10.229763</td>\n",
       "      <td>21.780588</td>\n",
       "    </tr>\n",
       "    <tr>\n",
       "      <th>min</th>\n",
       "      <td>0.000000</td>\n",
       "      <td>0.000000</td>\n",
       "      <td>0.000000</td>\n",
       "      <td>-41.454500</td>\n",
       "      <td>-157.498300</td>\n",
       "      <td>-21.900000</td>\n",
       "      <td>6.000000</td>\n",
       "    </tr>\n",
       "    <tr>\n",
       "      <th>25%</th>\n",
       "      <td>3.000000</td>\n",
       "      <td>0.000000</td>\n",
       "      <td>0.000000</td>\n",
       "      <td>25.069200</td>\n",
       "      <td>-74.841325</td>\n",
       "      <td>6.100000</td>\n",
       "      <td>55.000000</td>\n",
       "    </tr>\n",
       "    <tr>\n",
       "      <th>50%</th>\n",
       "      <td>12.000000</td>\n",
       "      <td>0.000000</td>\n",
       "      <td>0.000000</td>\n",
       "      <td>36.030550</td>\n",
       "      <td>15.234250</td>\n",
       "      <td>11.750000</td>\n",
       "      <td>73.000000</td>\n",
       "    </tr>\n",
       "    <tr>\n",
       "      <th>75%</th>\n",
       "      <td>75.750000</td>\n",
       "      <td>1.000000</td>\n",
       "      <td>4.000000</td>\n",
       "      <td>43.870250</td>\n",
       "      <td>101.363375</td>\n",
       "      <td>20.375000</td>\n",
       "      <td>84.000000</td>\n",
       "    </tr>\n",
       "    <tr>\n",
       "      <th>max</th>\n",
       "      <td>67760.000000</td>\n",
       "      <td>3024.000000</td>\n",
       "      <td>47743.000000</td>\n",
       "      <td>64.963100</td>\n",
       "      <td>174.886000</td>\n",
       "      <td>33.100000</td>\n",
       "      <td>98.000000</td>\n",
       "    </tr>\n",
       "  </tbody>\n",
       "</table>\n",
       "</div>"
      ],
      "text/plain": [
       "          Confirmed       Deaths     Recovered    Latitude   Longitude  \\\n",
       "count    206.000000   206.000000    206.000000  206.000000  206.000000   \n",
       "mean     575.640777    20.689320    312.640777   31.184989   11.752030   \n",
       "std     4822.697784   215.794845   3332.764713   21.305149   84.576291   \n",
       "min        0.000000     0.000000      0.000000  -41.454500 -157.498300   \n",
       "25%        3.000000     0.000000      0.000000   25.069200  -74.841325   \n",
       "50%       12.000000     0.000000      0.000000   36.030550   15.234250   \n",
       "75%       75.750000     1.000000      4.000000   43.870250  101.363375   \n",
       "max    67760.000000  3024.000000  47743.000000   64.963100  174.886000   \n",
       "\n",
       "       Temprature    Humidity  \n",
       "count  206.000000  206.000000  \n",
       "mean    12.161165   67.728155  \n",
       "std     10.229763   21.780588  \n",
       "min    -21.900000    6.000000  \n",
       "25%      6.100000   55.000000  \n",
       "50%     11.750000   73.000000  \n",
       "75%     20.375000   84.000000  \n",
       "max     33.100000   98.000000  "
      ]
     },
     "execution_count": 5,
     "metadata": {},
     "output_type": "execute_result"
    }
   ],
   "source": [
    "# check our features stitistics\n",
    "data.describe()"
   ]
  },
  {
   "cell_type": "markdown",
   "id": "ccc68b3f",
   "metadata": {},
   "source": [
    "the meadian for Temprature is 11.75 so we can catagorize the temprature data by being smaller or larger than 12"
   ]
  },
  {
   "cell_type": "code",
   "execution_count": 6,
   "id": "5c81ce91",
   "metadata": {},
   "outputs": [],
   "source": [
    "data['Temp_cat'] = data['Temprature'].apply(lambda x : 0 if x<12 else 1)"
   ]
  },
  {
   "cell_type": "code",
   "execution_count": 7,
   "id": "b30a343b",
   "metadata": {},
   "outputs": [
    {
     "name": "stdout",
     "output_type": "stream",
     "text": [
      "The number for locations with the Temprature Catagory of 0 (temprature smaller than 12):  107\n"
     ]
    }
   ],
   "source": [
    "print('The number for locations with the Temprature Catagory of 0 (temprature smaller than 12): '   ,(data['Temp_cat'] == 0).sum())"
   ]
  },
  {
   "cell_type": "code",
   "execution_count": 8,
   "id": "4ccf7d17",
   "metadata": {},
   "outputs": [
    {
     "name": "stdout",
     "output_type": "stream",
     "text": [
      "The number for locations with the Temprature Catagory of 1 (temprature larger than 12):  99\n"
     ]
    }
   ],
   "source": [
    "print('The number for locations with the Temprature Catagory of 1 (temprature larger than 12): '   ,(data['Temp_cat'] == 1).sum())"
   ]
  },
  {
   "cell_type": "code",
   "execution_count": 9,
   "id": "62a1f787",
   "metadata": {},
   "outputs": [
    {
     "name": "stdout",
     "output_type": "stream",
     "text": [
      "data_A : number of Daeths for rows that have a Temp_cat of 0 \n",
      "data_B : number of Daeths for rows that have a Temp_cat of 1 \n"
     ]
    }
   ],
   "source": [
    "# define two datasets for temprature catagory of 0 and 1\n",
    "data_A = data[data['Temp_cat']==0]['Deaths']\n",
    "data_B = data[data['Temp_cat']==1]['Deaths']\n",
    "print('data_A : number of Daeths for rows that have a Temp_cat of 0 ')\n",
    "print('data_B : number of Daeths for rows that have a Temp_cat of 1 ')"
   ]
  },
  {
   "cell_type": "markdown",
   "id": "87de54c1",
   "metadata": {},
   "source": [
    "Now it's the time for ABtesting\n",
    "we want to campare the mean of data_A and the mean of data_B and see that are these means equals or not? so this is our hypothesis:\n",
    "\n",
    "H0 : mean(data_A) = mean(data_B)\n",
    "\n",
    "H1 : mean(data_A) != mean(data_B)\n",
    "\n",
    "As we know the number of our data is 206 and we don't know the variance of society, but because n is larger than 30 we can use the Ztest"
   ]
  },
  {
   "cell_type": "code",
   "execution_count": 10,
   "id": "54ff0f05",
   "metadata": {},
   "outputs": [
    {
     "data": {
      "text/plain": [
       "(-1.1230490606590326, 0.26141665862176766)"
      ]
     },
     "execution_count": 10,
     "metadata": {},
     "output_type": "execute_result"
    }
   ],
   "source": [
    "# AB testing our two datasets\n",
    "statsmodels.stats.weightstats.ztest(data_A, data_B , alternative='two-sided')"
   ]
  },
  {
   "cell_type": "markdown",
   "id": "a8284e5d",
   "metadata": {},
   "source": [
    "The p_value for our ztest is 0.26, so by the error of 5 percent or 10 percent our H0 Hypothesis can't be rejected, so we can approve our H0 ,that means there is no difference between the mean of data_A and data_B\n",
    "\n",
    "Finally we can say that the temprature doesn't have any influence on the number of deaths."
   ]
  }
 ],
 "metadata": {
  "kernelspec": {
   "display_name": "Python 3 (ipykernel)",
   "language": "python",
   "name": "python3"
  },
  "language_info": {
   "codemirror_mode": {
    "name": "ipython",
    "version": 3
   },
   "file_extension": ".py",
   "mimetype": "text/x-python",
   "name": "python",
   "nbconvert_exporter": "python",
   "pygments_lexer": "ipython3",
   "version": "3.9.7"
  }
 },
 "nbformat": 4,
 "nbformat_minor": 5
}
